{
 "cells": [
  {
   "cell_type": "markdown",
   "metadata": {},
   "source": [
    "# Assignment 2 -> tubes\n",
    "So, your task is to augment (expand) the dataset, for each category, atleast 10 images are required. Each image carries more than 2 MB memory, which is not at all feasible for deep learning. If you open the image, you will observe black background space around the test tube which is also needed to be eliminated by applying a suitable algorithm. "
   ]
  },
  {
   "cell_type": "code",
   "execution_count": 222,
   "metadata": {},
   "outputs": [],
   "source": [
    "import cv2\n",
    "from PIL import Image\n",
    "import numpy as np\n",
    "import os\n",
    "import fnmatch"
   ]
  },
  {
   "cell_type": "code",
   "execution_count": 245,
   "metadata": {},
   "outputs": [],
   "source": [
    "class removeBlackBackground:\n",
    "    def cropImage(self, imageX, imageXGray, bwMin, bwMax, threshold):     \n",
    "        ret,tubeXbw = cv2.threshold(imageXGray,bwMin,bwMax,cv2.THRESH_BINARY)\n",
    "        tubeXbwBlur=cv2.blur(tubeXbw,(5,5))\n",
    "\n",
    "        colMeans=np.mean(tubeXbwBlur, axis=0)\n",
    "        rowMeans=np.mean(tubeXbwBlur, axis=1)\n",
    "        colThres=np.nonzero(colMeans > threshold)\n",
    "        rowThres=np.nonzero(rowMeans > threshold)\n",
    "\n",
    "        minCol=colThres[0][0]\n",
    "        minRow=rowThres[0][0]\n",
    "        maxCol=colThres[0][colThres[0].shape[0]-1]\n",
    "        maxRow=rowThres[0][rowThres[0].shape[0]-1]\n",
    "\n",
    "        imageX=np.delete(imageX, slice(maxCol,imageXGray.shape[1]), axis=1)\n",
    "        imageX=np.delete(imageX, slice(0,minCol), axis=1)\n",
    "        imageX=np.delete(imageX, slice(maxRow,imageXGray.shape[0]), axis=0)\n",
    "        imageX=np.delete(imageX, slice(0,minRow), axis=0) \n",
    "        \n",
    "        return imageX\n",
    "    \n",
    "    def setDefaultValues(self):\n",
    "        hMin = 0   # Hue minimum\n",
    "        sMin = 0   # Saturation minimum\n",
    "        vMin = 0  # Brightness minimum\n",
    "        hMax = 255 # Hue maximum\n",
    "        sMax = 255 # Saturation maximum\n",
    "        vMax = 255 # Value maximum\n",
    "\n",
    "        self.lower = np.array([hMin, sMin, vMin])\n",
    "        self.upper = np.array([hMax, sMax, vMax])\n",
    "            \n",
    "    def resize_image(self, img):\n",
    "        scale = 20\n",
    "        width = int(img.shape[1]*scale/100)\n",
    "        height = int(img.shape[0]*scale/100)\n",
    "\n",
    "        dimensions = width, height\n",
    "\n",
    "        return cv2.resize(img, dimensions, interpolation = cv2.INTER_AREA)\n",
    "\n",
    "    def remove_black_bg(self, img):\n",
    "        self.setDefaultValues()\n",
    "        \n",
    "        hsvImage = cv2.cvtColor(img, cv2.COLOR_BGR2HSV) \n",
    "        mask = cv2.inRange(hsvImage, self.lower, self.upper) \n",
    "        output = cv2.bitwise_and(img, img, mask=mask)\n",
    "        *_, alpha = cv2.split(output)\n",
    "\n",
    "        mergedImage = cv2.merge((output, alpha))\n",
    "        \n",
    "        #outputImage = cv2.cvtColor(mergedImage, cv2.COLOR_LAB2RGB)\n",
    "        \n",
    "        return mergedImage"
   ]
  },
  {
   "cell_type": "code",
   "execution_count": 247,
   "metadata": {},
   "outputs": [
    {
     "name": "stdout",
     "output_type": "stream",
     "text": [
      "Processing\n",
      "End of processing\n"
     ]
    }
   ],
   "source": [
    "removeBg = removeBlackBackground()\n",
    "\n",
    "print('Processing')\n",
    "\n",
    "directory = 'testTubes'\n",
    "\n",
    "for filename in os.listdir(directory):\n",
    "    if filename.endswith(\".jpg\"):\n",
    "        \n",
    "        #Read image\n",
    "        path = directory + '/' + filename\n",
    "        img = cv2.imread(path)\n",
    "        img_gray = cv2.imread(path, 0)\n",
    "        \n",
    "        img_resized = removeBg.resize_image(img)\n",
    "        img_gray_resized = removeBg.resize_image(img_gray)\n",
    "        \n",
    "        removedBlankSpaceImg = removeBg.cropImage(img_resized, img_gray_resized, 50, 255, 5)\n",
    "        \n",
    "        #Remove background\n",
    "        editedImg = removeBg.remove_black_bg(removedBlankSpaceImg)\n",
    "        \n",
    "        outputImg = editedImg\n",
    "        \n",
    "        cv2.imwrite('testTubesOutput/edited_'+filename[:-4]+'.png', outputImg)        \n",
    "        continue\n",
    "    else:\n",
    "        continue\n",
    "        \n",
    "print('End of processing')"
   ]
  },
  {
   "cell_type": "code",
   "execution_count": null,
   "metadata": {},
   "outputs": [],
   "source": []
  },
  {
   "cell_type": "markdown",
   "metadata": {},
   "source": [
    "## Create more images\n",
    "Flip and transform the images"
   ]
  },
  {
   "cell_type": "code",
   "execution_count": 241,
   "metadata": {},
   "outputs": [
    {
     "name": "stdout",
     "output_type": "stream",
     "text": [
      "Processing\n",
      "End of processing\n"
     ]
    }
   ],
   "source": [
    "directory = 'testTubes'\n",
    "\n",
    "print('Processing')\n",
    "\n",
    "for filename in os.listdir(directory):\n",
    "    if (filename.endswith('.jpg')) and not(fnmatch.fnmatch(filename, 'rotated*')) and not(fnmatch.fnmatch(filename, 'flipped*')):\n",
    "        \n",
    "        #Read image\n",
    "        path = directory + '/' + filename\n",
    "        img = cv2.imread(path)\n",
    "        \n",
    "        #rotate 90 degrees\n",
    "        rotatedImg = np.rot90(img)\n",
    "        cv2.imwrite('testTubes/rotated90_'+filename[:-4]+'.jpg', rotatedImg)\n",
    "        \n",
    "        #flip image\n",
    "        flippedImg = np.flip(img)\n",
    "        cv2.imwrite('testTubes/flipped_'+filename[:-4]+'.jpg', flippedImg)\n",
    "        \n",
    "print('End of processing')"
   ]
  },
  {
   "cell_type": "code",
   "execution_count": null,
   "metadata": {},
   "outputs": [],
   "source": []
  }
 ],
 "metadata": {
  "kernelspec": {
   "display_name": "Python 3",
   "language": "python",
   "name": "python3"
  },
  "language_info": {
   "codemirror_mode": {
    "name": "ipython",
    "version": 3
   },
   "file_extension": ".py",
   "mimetype": "text/x-python",
   "name": "python",
   "nbconvert_exporter": "python",
   "pygments_lexer": "ipython3",
   "version": "3.7.6"
  }
 },
 "nbformat": 4,
 "nbformat_minor": 4
}
